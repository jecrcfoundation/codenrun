{
  "nbformat": 4,
  "nbformat_minor": 0,
  "metadata": {
    "colab": {
      "name": "code_n_run",
      "provenance": [],
      "collapsed_sections": []
    },
    "kernelspec": {
      "name": "python3",
      "display_name": "Python 3"
    }
  },
  "cells": [
    {
      "cell_type": "code",
      "metadata": {
        "id": "IJQ6J_kPrLFo",
        "colab_type": "code",
        "outputId": "56e43256-fbaa-4856-81d4-62df65ebef89",
        "colab": {
          "base_uri": "https://localhost:8080/",
          "height": 989
        }
      },
      "source": [
        "import requests\n",
        "import nltk\n",
        "!pip install google\n",
        "from googlesearch import search \n",
        "!pip install newspaper3k\n",
        "from newspaper import Article\n",
        "nltk.download('stopwords')\n",
        "from bs4 import BeautifulSoup\n",
        "import re\n",
        "stopwords = nltk.corpus.stopwords.words('english')\n",
        "from nltk.tokenize import sent_tokenize\n",
        "import heapq\n",
        "import nltk\n",
        "nltk.download('punkt')"
      ],
      "execution_count": 1,
      "outputs": [
        {
          "output_type": "stream",
          "text": [
            "Requirement already satisfied: google in /usr/local/lib/python3.6/dist-packages (2.0.3)\n",
            "Requirement already satisfied: beautifulsoup4 in /usr/local/lib/python3.6/dist-packages (from google) (4.6.3)\n",
            "Collecting newspaper3k\n",
            "\u001b[?25l  Downloading https://files.pythonhosted.org/packages/d7/b9/51afecb35bb61b188a4b44868001de348a0e8134b4dfa00ffc191567c4b9/newspaper3k-0.2.8-py3-none-any.whl (211kB)\n",
            "\u001b[K     |████████████████████████████████| 215kB 4.8MB/s \n",
            "\u001b[?25hRequirement already satisfied: PyYAML>=3.11 in /usr/local/lib/python3.6/dist-packages (from newspaper3k) (3.13)\n",
            "Requirement already satisfied: nltk>=3.2.1 in /usr/local/lib/python3.6/dist-packages (from newspaper3k) (3.2.5)\n",
            "Requirement already satisfied: requests>=2.10.0 in /usr/local/lib/python3.6/dist-packages (from newspaper3k) (2.21.0)\n",
            "Collecting tldextract>=2.0.1\n",
            "\u001b[?25l  Downloading https://files.pythonhosted.org/packages/fd/0e/9ab599d6e78f0340bb1d1e28ddeacb38c8bb7f91a1b0eae9a24e9603782f/tldextract-2.2.2-py2.py3-none-any.whl (48kB)\n",
            "\u001b[K     |████████████████████████████████| 51kB 8.3MB/s \n",
            "\u001b[?25hCollecting cssselect>=0.9.2\n",
            "  Downloading https://files.pythonhosted.org/packages/3b/d4/3b5c17f00cce85b9a1e6f91096e1cc8e8ede2e1be8e96b87ce1ed09e92c5/cssselect-1.1.0-py2.py3-none-any.whl\n",
            "Collecting feedparser>=5.2.1\n",
            "\u001b[?25l  Downloading https://files.pythonhosted.org/packages/91/d8/7d37fec71ff7c9dbcdd80d2b48bcdd86d6af502156fc93846fb0102cb2c4/feedparser-5.2.1.tar.bz2 (192kB)\n",
            "\u001b[K     |████████████████████████████████| 194kB 65.1MB/s \n",
            "\u001b[?25hRequirement already satisfied: python-dateutil>=2.5.3 in /usr/local/lib/python3.6/dist-packages (from newspaper3k) (2.6.1)\n",
            "Collecting jieba3k>=0.35.1\n",
            "\u001b[?25l  Downloading https://files.pythonhosted.org/packages/a9/cb/2c8332bcdc14d33b0bedd18ae0a4981a069c3513e445120da3c3f23a8aaa/jieba3k-0.35.1.zip (7.4MB)\n",
            "\u001b[K     |████████████████████████████████| 7.4MB 22.0MB/s \n",
            "\u001b[?25hCollecting feedfinder2>=0.0.4\n",
            "  Downloading https://files.pythonhosted.org/packages/35/82/1251fefec3bb4b03fd966c7e7f7a41c9fc2bb00d823a34c13f847fd61406/feedfinder2-0.0.4.tar.gz\n",
            "Requirement already satisfied: beautifulsoup4>=4.4.1 in /usr/local/lib/python3.6/dist-packages (from newspaper3k) (4.6.3)\n",
            "Collecting tinysegmenter==0.3\n",
            "  Downloading https://files.pythonhosted.org/packages/17/82/86982e4b6d16e4febc79c2a1d68ee3b707e8a020c5d2bc4af8052d0f136a/tinysegmenter-0.3.tar.gz\n",
            "Requirement already satisfied: Pillow>=3.3.0 in /usr/local/lib/python3.6/dist-packages (from newspaper3k) (6.2.2)\n",
            "Requirement already satisfied: lxml>=3.6.0 in /usr/local/lib/python3.6/dist-packages (from newspaper3k) (4.2.6)\n",
            "Requirement already satisfied: six in /usr/local/lib/python3.6/dist-packages (from nltk>=3.2.1->newspaper3k) (1.12.0)\n",
            "Requirement already satisfied: certifi>=2017.4.17 in /usr/local/lib/python3.6/dist-packages (from requests>=2.10.0->newspaper3k) (2019.11.28)\n",
            "Requirement already satisfied: idna<2.9,>=2.5 in /usr/local/lib/python3.6/dist-packages (from requests>=2.10.0->newspaper3k) (2.8)\n",
            "Requirement already satisfied: urllib3<1.25,>=1.21.1 in /usr/local/lib/python3.6/dist-packages (from requests>=2.10.0->newspaper3k) (1.24.3)\n",
            "Requirement already satisfied: chardet<3.1.0,>=3.0.2 in /usr/local/lib/python3.6/dist-packages (from requests>=2.10.0->newspaper3k) (3.0.4)\n",
            "Collecting requests-file>=1.4\n",
            "  Downloading https://files.pythonhosted.org/packages/23/9c/6e63c23c39e53d3df41c77a3d05a49a42c4e1383a6d2a5e3233161b89dbf/requests_file-1.4.3-py2.py3-none-any.whl\n",
            "Requirement already satisfied: setuptools in /usr/local/lib/python3.6/dist-packages (from tldextract>=2.0.1->newspaper3k) (45.1.0)\n",
            "Building wheels for collected packages: feedparser, jieba3k, feedfinder2, tinysegmenter\n",
            "  Building wheel for feedparser (setup.py) ... \u001b[?25l\u001b[?25hdone\n",
            "  Created wheel for feedparser: filename=feedparser-5.2.1-cp36-none-any.whl size=44940 sha256=2c4a4e37bd0ac5fa1e65b4ae654fab5e434505f71c5c2fe417c7f8b07c6c43bf\n",
            "  Stored in directory: /root/.cache/pip/wheels/8c/69/b7/f52763c41c5471df57703a0ef718a32a5e81ee35dcf6d4f97f\n",
            "  Building wheel for jieba3k (setup.py) ... \u001b[?25l\u001b[?25hdone\n",
            "  Created wheel for jieba3k: filename=jieba3k-0.35.1-cp36-none-any.whl size=7398406 sha256=ede5a769d31c59eb16e4a85caad6e9075d1b8380d073745470d20f9bc881a6bb\n",
            "  Stored in directory: /root/.cache/pip/wheels/83/15/9c/a3f1f67e7f7181170ad37d32e503c35da20627c013f438ed34\n",
            "  Building wheel for feedfinder2 (setup.py) ... \u001b[?25l\u001b[?25hdone\n",
            "  Created wheel for feedfinder2: filename=feedfinder2-0.0.4-cp36-none-any.whl size=3357 sha256=1d3e11d6ac82723d439ee2eaf4a2796ed5545314e814baf008f02fa48523cf87\n",
            "  Stored in directory: /root/.cache/pip/wheels/de/03/ca/778e3a7a627e3d98836cc890e7cb40c7575424cfd3340f40ed\n",
            "  Building wheel for tinysegmenter (setup.py) ... \u001b[?25l\u001b[?25hdone\n",
            "  Created wheel for tinysegmenter: filename=tinysegmenter-0.3-cp36-none-any.whl size=13539 sha256=a09831e885c94b2fc2c7b32fada32edcdb34d36d1a5f55dcfc3f64fc32e5186f\n",
            "  Stored in directory: /root/.cache/pip/wheels/81/2b/43/a02ede72324dd40cdd7ca53aad718c7710628e91b8b0dc0f02\n",
            "Successfully built feedparser jieba3k feedfinder2 tinysegmenter\n",
            "Installing collected packages: requests-file, tldextract, cssselect, feedparser, jieba3k, feedfinder2, tinysegmenter, newspaper3k\n",
            "Successfully installed cssselect-1.1.0 feedfinder2-0.0.4 feedparser-5.2.1 jieba3k-0.35.1 newspaper3k-0.2.8 requests-file-1.4.3 tinysegmenter-0.3 tldextract-2.2.2\n",
            "[nltk_data] Downloading package stopwords to /root/nltk_data...\n",
            "[nltk_data]   Unzipping corpora/stopwords.zip.\n",
            "[nltk_data] Downloading package punkt to /root/nltk_data...\n",
            "[nltk_data]   Unzipping tokenizers/punkt.zip.\n"
          ],
          "name": "stdout"
        },
        {
          "output_type": "execute_result",
          "data": {
            "text/plain": [
              "True"
            ]
          },
          "metadata": {
            "tags": []
          },
          "execution_count": 1
        }
      ]
    },
    {
      "cell_type": "code",
      "metadata": {
        "id": "z2qs_pCwrPvS",
        "colab_type": "code",
        "outputId": "ed09bccf-c8b8-4bbe-8c0e-f0c6909f11d9",
        "colab": {
          "base_uri": "https://localhost:8080/",
          "height": 34
        }
      },
      "source": [
        "search_item = input('enter query : ')  ## search query\n",
        "url = \"https://www.google.co.in/search?q=\" + search_item\n"
      ],
      "execution_count": 2,
      "outputs": [
        {
          "output_type": "stream",
          "text": [
            "enter query : chirala\n"
          ],
          "name": "stdout"
        }
      ]
    },
    {
      "cell_type": "code",
      "metadata": {
        "id": "2UT7a6xqyUl1",
        "colab_type": "code",
        "colab": {}
      },
      "source": [
        "def final_fuck(article_text):\n",
        "    count=1\n",
        "    documents=[]\n",
        "    try:\n",
        "        print('======================================================================================================')            \n",
        "        article_text = re.sub(r'\\[[0-9]*\\]', ' ', article_text)\n",
        "        article_text = re.sub(r'\\s+', ' ', article_text)\n",
        "        formatted_article_text = re.sub('[^a-zA-Z]', ' ', article_text )\n",
        "        formatted_article_text = re.sub(r'\\s+', ' ', formatted_article_text)\n",
        "        print(article_text)\n",
        "        sentence_list = (sent_tokenize(article_text))\n",
        "        print(len(sentence_list))\n",
        "        sentence_list=set(sentence_list)\n",
        "        sentence_list=list(sentence_list)\n",
        "        print(len(sentence_list))\n",
        "\n",
        "        new_list=[]\n",
        "        for sentence in sentence_list:\n",
        "          new_list.append((str(count)+' : '+sentence))\n",
        "          count+=1\n",
        "        sentence_list=new_list\n",
        "        \n",
        "       \n",
        "        word_frequencies = {}\n",
        "        for word in nltk.word_tokenize(formatted_article_text):\n",
        "            if word not in stopwords:\n",
        "                if word not in word_frequencies.keys():\n",
        "                    word_frequencies[word] = 1\n",
        "                else:\n",
        "                    word_frequencies[word] += 1\n",
        "        maximum_frequncy = max(word_frequencies.values())\n",
        "\n",
        "        for word in word_frequencies.keys():\n",
        "            word_frequencies[word] = (word_frequencies[word]/maximum_frequncy)\n",
        "        sentence_scores = {}\n",
        "        for sent in sentence_list:\n",
        "            for word in nltk.word_tokenize(sent.lower()):\n",
        "                if word in word_frequencies.keys():\n",
        "                        if sent not in sentence_scores.keys():\n",
        "                            sentence_scores[sent] = word_frequencies[word]\n",
        "                        else:\n",
        "                            sentence_scores[sent] += word_frequencies[word]\n",
        "        \n",
        "        summary_sentences = heapq.nlargest(10, sentence_scores, key=sentence_scores.get)\n",
        "\n",
        "\n",
        "\n",
        "        summary_dict={}\n",
        "        for sent in summary_sentences:\n",
        "          index=sent.find(':')\n",
        "          summary_dict[int(sent[:index-1])]=sent[index+2:]\n",
        "        \n",
        "        order_details=sorted(summary_dict.keys())\n",
        "        i=1\n",
        "        print(order_details)\n",
        "        for j in order_details:\n",
        "          print(i,' : ',summary_dict[j])\n",
        "          i+=1\n",
        "        \n",
        "    except ValueError:\n",
        "      pass"
      ],
      "execution_count": 0,
      "outputs": []
    },
    {
      "cell_type": "code",
      "metadata": {
        "id": "6e1i_flhHjit",
        "colab_type": "code",
        "outputId": "156458fe-3d8d-417b-e943-8028adf69da4",
        "colab": {
          "base_uri": "https://localhost:8080/",
          "height": 68
        }
      },
      "source": [
        "import nltk\n",
        "\n",
        "nltk.download('punkt')\n",
        "\n"
      ],
      "execution_count": 4,
      "outputs": [
        {
          "output_type": "stream",
          "text": [
            "[nltk_data] Downloading package punkt to /root/nltk_data...\n",
            "[nltk_data]   Package punkt is already up-to-date!\n"
          ],
          "name": "stdout"
        },
        {
          "output_type": "execute_result",
          "data": {
            "text/plain": [
              "True"
            ]
          },
          "metadata": {
            "tags": []
          },
          "execution_count": 4
        }
      ]
    },
    {
      "cell_type": "code",
      "metadata": {
        "id": "RpyHn_8RrZMM",
        "colab_type": "code",
        "outputId": "63e4df7b-d3f6-4bf9-e193-c03ae196199a",
        "colab": {
          "base_uri": "https://localhost:8080/",
          "height": 309
        }
      },
      "source": [
        "#all_pages_scrapper\n",
        "matter=''\n",
        "kiys=[]\n",
        "summary_matter=''\n",
        "for j in search(search_item, num=10,stop=10, pause=2): \n",
        "  try:\n",
        "    article = Article(j)\n",
        "    article.download()\n",
        "    article.parse()\n",
        "    matter+=article.text\n",
        "    article.nlp() #this runs the natural language processing\n",
        "    kiys.extend(article.keywords)\n",
        "    \n",
        "    summary_matter+=article.summary\n",
        "    \n",
        "  except:\n",
        "    pass\n",
        "final_fuck(matter)\n",
        "\n",
        "print(set(kiys))"
      ],
      "execution_count": 5,
      "outputs": [
        {
          "output_type": "stream",
          "text": [
            "======================================================================================================\n",
            "Town in Andhra Pradesh, India Chirala ( (help·info) ), is a town in Prakasam district of the Indian state of Andhra Pradesh. It is a municipality and the headquarters of Chirala mandal in Ongole revenue division. As of 2011 , it had a population of above 250,000. Chirala is the most populated town in Bapatla Lok Shaba Parliamentary Constituency. Etymology [ edit ] The City was also known as Kshirapuri, which translates as the town of milk. The name got transformed to Chirala, where Chira means Sari . The town and the surroundings were known of high-quality hand-loom industry. Geography [ edit ] The coordinates of the City are and is located at an altitude of 3 m (9.8 ft) from the coast of Bay of Bengal. Climate The City experiences tropical climate with the average annual temperature records at 28.5 °C (83.3 °F). Hot summers and cool winters are observed due to its proximity to the coast of Bay of Bengal. It receives both South west monsoon and North-east monsoon as well. The precipitation is very high with an annual rainfall of about 200 millimetres (8 in) and the month of October receives a maximum rainfall of 197 millimetres (8 in). Governance [ edit ] Chirala Municipality is the civic governing body of the Town. It is a first grade municipality, constituted on 1 April 1948 and has a jurisdictional area of 13.57 km2 (5.24 sq mi) with 33 election wards. The present municipal commissioner of the City is P.Sreenivasa Rao. The constituents of Chirala urban agglomeration include, Chirala Municipality, census City of Chirala, Vetapalem; out growths of Ipurupalem , and Kothapeta. Economy [ edit ] Fishing boats near Chirala beach Handloom weaving industry is one of the main occupation the City. Several Cloth Market Complexes are situated in Chirala. Textile factories from Surat, Bombay, Gwalior supplying the goods directly to these markets. Cloths are very cheap in Chirala Textile shops. Chirala also known as Small Bombay. Chirala is famous tourist place for several beaches are at its costal sea shores like VADAREVU Beach and Ramapuram Beach are famous here. Every week ends several tourists are coming here from Hyderabad because VADAREVU Beach is nearest beach to Hyderabad and Telangana via Macherla and Nagarjuna Sagar Route Chirala has ITC Factory where Cigeragte raw materials processed and Cigerates are manufactured Demographics [ edit ] As of 2011 census of India, the City had a population of 172,826 with 23,070 households. It shows 2.04% growth in population, compared to 2001 Census of India which was recorded as 85,455. The total population constitute, 42,927 males and 44,273 females —a sex ratio of 1031 females per 1000 males, higher than the national average of 940 per 1000. 8,389 children are in the age group of 0–6 years, of which 4,253 are boys and 4,136 are girls —a ratio of 973 girls per 1000 boys. The average literacy rate stands at 78.80% with 62,099 literates, higher than the national average of 73.00%. The urban agglomeration population of Chirala is 162,471. Transport [ edit ] Chirala railway station main entrance The City is also well connected with National and state highways. The National Highway 216 (India) passes through the town, which connects and Ongole with Kattipudi . State Highway 48, also referred as Guntur-Bapatla-Chirala Road connects the town with Guntur. National_Highway_167A_(India) connects it with Piduguralla, which passes through Narasaraopet and Chilakaluripet. Public transport includes, the buses operated by state run APSRTC services. Chirala railway station is an A–Category station in Vijayawada Railway Division of South Central Railway zone. It is located on the Howrah-Chennai main line of Indian Railways. Municipal office Education [ edit ] The primary and secondary school education is imparted by government, aided and private schools, under the School Education Department of the state. The medium of instruction followed by different schools are English, Telugu. VRS &YRN College is a famous college in Chirala. It's been providing education requirements for decades now. CHIRALA is Educational Hub in Prakasam District, it has lots of Engineering colleges like St. Ann's College of Engineering and Technology, Chirala Engineering College and VRS & YRN College of Engineering. St Ann's Pharmacy College and Polytechnic College. See also [ edit ]Town in Andhra Pradesh, India Chirala ( (help·info) ), is a town in Prakasam district of the Indian state of Andhra Pradesh. It is a municipality and the headquarters of Chirala mandal in Ongole revenue division. As of 2011 , it had a population of above 250,000. Chirala is the most populated town in Bapatla Lok Shaba Parliamentary Constituency. Etymology [ edit ] The City was also known as Kshirapuri, which translates as the town of milk. The name got transformed to Chirala, where Chira means Sari . The town and the surroundings were known of high-quality hand-loom industry. Geography [ edit ] The coordinates of the City are and is located at an altitude of 3 m (9.8 ft) from the coast of Bay of Bengal. Climate The City experiences tropical climate with the average annual temperature records at 28.5 °C (83.3 °F). Hot summers and cool winters are observed due to its proximity to the coast of Bay of Bengal. It receives both South west monsoon and North-east monsoon as well. The precipitation is very high with an annual rainfall of about 200 millimetres (8 in) and the month of October receives a maximum rainfall of 197 millimetres (8 in). Governance [ edit ] Chirala Municipality is the civic governing body of the Town. It is a first grade municipality, constituted on 1 April 1948 and has a jurisdictional area of 13.57 km2 (5.24 sq mi) with 33 election wards. The present municipal commissioner of the City is P.Sreenivasa Rao. The constituents of Chirala urban agglomeration include, Chirala Municipality, census City of Chirala, Vetapalem; out growths of Ipurupalem , and Kothapeta. Economy [ edit ] Fishing boats near Chirala beach Handloom weaving industry is one of the main occupation the City. Several Cloth Market Complexes are situated in Chirala. Textile factories from Surat, Bombay, Gwalior supplying the goods directly to these markets. Cloths are very cheap in Chirala Textile shops. Chirala also known as Small Bombay. Chirala is famous tourist place for several beaches are at its costal sea shores like VADAREVU Beach and Ramapuram Beach are famous here. Every week ends several tourists are coming here from Hyderabad because VADAREVU Beach is nearest beach to Hyderabad and Telangana via Macherla and Nagarjuna Sagar Route Chirala has ITC Factory where Cigeragte raw materials processed and Cigerates are manufactured Demographics [ edit ] As of 2011 census of India, the City had a population of 172,826 with 23,070 households. It shows 2.04% growth in population, compared to 2001 Census of India which was recorded as 85,455. The total population constitute, 42,927 males and 44,273 females —a sex ratio of 1031 females per 1000 males, higher than the national average of 940 per 1000. 8,389 children are in the age group of 0–6 years, of which 4,253 are boys and 4,136 are girls —a ratio of 973 girls per 1000 boys. The average literacy rate stands at 78.80% with 62,099 literates, higher than the national average of 73.00%. The urban agglomeration population of Chirala is 162,471. Transport [ edit ] Chirala railway station main entrance The City is also well connected with National and state highways. The National Highway 216 (India) passes through the town, which connects and Ongole with Kattipudi . State Highway 48, also referred as Guntur-Bapatla-Chirala Road connects the town with Guntur. National_Highway_167A_(India) connects it with Piduguralla, which passes through Narasaraopet and Chilakaluripet. Public transport includes, the buses operated by state run APSRTC services. Chirala railway station is an A–Category station in Vijayawada Railway Division of South Central Railway zone. It is located on the Howrah-Chennai main line of Indian Railways. Municipal office Education [ edit ] The primary and secondary school education is imparted by government, aided and private schools, under the School Education Department of the state. The medium of instruction followed by different schools are English, Telugu. VRS &YRN College is a famous college in Chirala. It's been providing education requirements for decades now. CHIRALA is Educational Hub in Prakasam District, it has lots of Engineering colleges like St. Ann's College of Engineering and Technology, Chirala Engineering College and VRS & YRN College of Engineering. St Ann's Pharmacy College and Polytechnic College. See also [ edit ]Town in Andhra Pradesh, India Chirala ( (help·info) ), is a town in Prakasam district of the Indian state of Andhra Pradesh. It is a municipality and the headquarters of Chirala mandal in Ongole revenue division. As of 2011 , it had a population of above 250,000. Chirala is the most populated town in Bapatla Lok Shaba Parliamentary Constituency. Etymology [ edit ] The City was also known as Kshirapuri, which translates as the town of milk. The name got transformed to Chirala, where Chira means Sari . The town and the surroundings were known of high-quality hand-loom industry. Geography [ edit ] The coordinates of the City are and is located at an altitude of 3 m (9.8 ft) from the coast of Bay of Bengal. Climate The City experiences tropical climate with the average annual temperature records at 28.5 °C (83.3 °F). Hot summers and cool winters are observed due to its proximity to the coast of Bay of Bengal. It receives both South west monsoon and North-east monsoon as well. The precipitation is very high with an annual rainfall of about 200 millimetres (8 in) and the month of October receives a maximum rainfall of 197 millimetres (8 in). Governance [ edit ] Chirala Municipality is the civic governing body of the Town. It is a first grade municipality, constituted on 1 April 1948 and has a jurisdictional area of 13.57 km2 (5.24 sq mi) with 33 election wards. The present municipal commissioner of the City is P.Sreenivasa Rao. The constituents of Chirala urban agglomeration include, Chirala Municipality, census City of Chirala, Vetapalem; out growths of Ipurupalem , and Kothapeta. Economy [ edit ] Fishing boats near Chirala beach Handloom weaving industry is one of the main occupation the City. Several Cloth Market Complexes are situated in Chirala. Textile factories from Surat, Bombay, Gwalior supplying the goods directly to these markets. Cloths are very cheap in Chirala Textile shops. Chirala also known as Small Bombay. Chirala is famous tourist place for several beaches are at its costal sea shores like VADAREVU Beach and Ramapuram Beach are famous here. Every week ends several tourists are coming here from Hyderabad because VADAREVU Beach is nearest beach to Hyderabad and Telangana via Macherla and Nagarjuna Sagar Route Chirala has ITC Factory where Cigeragte raw materials processed and Cigerates are manufactured Demographics [ edit ] As of 2011 census of India, the City had a population of 172,826 with 23,070 households. It shows 2.04% growth in population, compared to 2001 Census of India which was recorded as 85,455. The total population constitute, 42,927 males and 44,273 females —a sex ratio of 1031 females per 1000 males, higher than the national average of 940 per 1000. 8,389 children are in the age group of 0–6 years, of which 4,253 are boys and 4,136 are girls —a ratio of 973 girls per 1000 boys. The average literacy rate stands at 78.80% with 62,099 literates, higher than the national average of 73.00%. The urban agglomeration population of Chirala is 162,471. Transport [ edit ] Chirala railway station main entrance The City is also well connected with National and state highways. The National Highway 216 (India) passes through the town, which connects and Ongole with Kattipudi . State Highway 48, also referred as Guntur-Bapatla-Chirala Road connects the town with Guntur. National_Highway_167A_(India) connects it with Piduguralla, which passes through Narasaraopet and Chilakaluripet. Public transport includes, the buses operated by state run APSRTC services. Chirala railway station is an A–Category station in Vijayawada Railway Division of South Central Railway zone. It is located on the Howrah-Chennai main line of Indian Railways. Municipal office Education [ edit ] The primary and secondary school education is imparted by government, aided and private schools, under the School Education Department of the state. The medium of instruction followed by different schools are English, Telugu. VRS &YRN College is a famous college in Chirala. It's been providing education requirements for decades now. CHIRALA is Educational Hub in Prakasam District, it has lots of Engineering colleges like St. Ann's College of Engineering and Technology, Chirala Engineering College and VRS & YRN College of Engineering. St Ann's Pharmacy College and Polytechnic College. See also [ edit ]Town in Andhra Pradesh, India Chirala ( (help·info) ), is a town in Prakasam district of the Indian state of Andhra Pradesh. It is a municipality and the headquarters of Chirala mandal in Ongole revenue division. As of 2011 , it had a population of above 250,000. Chirala is the most populated town in Bapatla Lok Shaba Parliamentary Constituency. Etymology [ edit ] The City was also known as Kshirapuri, which translates as the town of milk. The name got transformed to Chirala, where Chira means Sari . The town and the surroundings were known of high-quality hand-loom industry. Geography [ edit ] The coordinates of the City are and is located at an altitude of 3 m (9.8 ft) from the coast of Bay of Bengal. Climate The City experiences tropical climate with the average annual temperature records at 28.5 °C (83.3 °F). Hot summers and cool winters are observed due to its proximity to the coast of Bay of Bengal. It receives both South west monsoon and North-east monsoon as well. The precipitation is very high with an annual rainfall of about 200 millimetres (8 in) and the month of October receives a maximum rainfall of 197 millimetres (8 in). Governance [ edit ] Chirala Municipality is the civic governing body of the Town. It is a first grade municipality, constituted on 1 April 1948 and has a jurisdictional area of 13.57 km2 (5.24 sq mi) with 33 election wards. The present municipal commissioner of the City is P.Sreenivasa Rao. The constituents of Chirala urban agglomeration include, Chirala Municipality, census City of Chirala, Vetapalem; out growths of Ipurupalem , and Kothapeta. Economy [ edit ] Fishing boats near Chirala beach Handloom weaving industry is one of the main occupation the City. Several Cloth Market Complexes are situated in Chirala. Textile factories from Surat, Bombay, Gwalior supplying the goods directly to these markets. Cloths are very cheap in Chirala Textile shops. Chirala also known as Small Bombay. Chirala is famous tourist place for several beaches are at its costal sea shores like VADAREVU Beach and Ramapuram Beach are famous here. Every week ends several tourists are coming here from Hyderabad because VADAREVU Beach is nearest beach to Hyderabad and Telangana via Macherla and Nagarjuna Sagar Route Chirala has ITC Factory where Cigeragte raw materials processed and Cigerates are manufactured Demographics [ edit ] As of 2011 census of India, the City had a population of 172,826 with 23,070 households. It shows 2.04% growth in population, compared to 2001 Census of India which was recorded as 85,455. The total population constitute, 42,927 males and 44,273 females —a sex ratio of 1031 females per 1000 males, higher than the national average of 940 per 1000. 8,389 children are in the age group of 0–6 years, of which 4,253 are boys and 4,136 are girls —a ratio of 973 girls per 1000 boys. The average literacy rate stands at 78.80% with 62,099 literates, higher than the national average of 73.00%. The urban agglomeration population of Chirala is 162,471. Transport [ edit ] Chirala railway station main entrance The City is also well connected with National and state highways. The National Highway 216 (India) passes through the town, which connects and Ongole with Kattipudi . State Highway 48, also referred as Guntur-Bapatla-Chirala Road connects the town with Guntur. National_Highway_167A_(India) connects it with Piduguralla, which passes through Narasaraopet and Chilakaluripet. Public transport includes, the buses operated by state run APSRTC services. Chirala railway station is an A–Category station in Vijayawada Railway Division of South Central Railway zone. It is located on the Howrah-Chennai main line of Indian Railways. Municipal office Education [ edit ] The primary and secondary school education is imparted by government, aided and private schools, under the School Education Department of the state. The medium of instruction followed by different schools are English, Telugu. VRS &YRN College is a famous college in Chirala. It's been providing education requirements for decades now. CHIRALA is Educational Hub in Prakasam District, it has lots of Engineering colleges like St. Ann's College of Engineering and Technology, Chirala Engineering College and VRS & YRN College of Engineering. St Ann's Pharmacy College and Polytechnic College. See also [ edit ]Town in Andhra Pradesh, India Chirala ( (help·info) ), is a town in Prakasam district of the Indian state of Andhra Pradesh. It is a municipality and the headquarters of Chirala mandal in Ongole revenue division. As of 2011 , it had a population of above 250,000. Chirala is the most populated town in Bapatla Lok Shaba Parliamentary Constituency. Etymology [ edit ] The City was also known as Kshirapuri, which translates as the town of milk. The name got transformed to Chirala, where Chira means Sari . The town and the surroundings were known of high-quality hand-loom industry. Geography [ edit ] The coordinates of the City are and is located at an altitude of 3 m (9.8 ft) from the coast of Bay of Bengal. Climate The City experiences tropical climate with the average annual temperature records at 28.5 °C (83.3 °F). Hot summers and cool winters are observed due to its proximity to the coast of Bay of Bengal. It receives both South west monsoon and North-east monsoon as well. The precipitation is very high with an annual rainfall of about 200 millimetres (8 in) and the month of October receives a maximum rainfall of 197 millimetres (8 in). Governance [ edit ] Chirala Municipality is the civic governing body of the Town. It is a first grade municipality, constituted on 1 April 1948 and has a jurisdictional area of 13.57 km2 (5.24 sq mi) with 33 election wards. The present municipal commissioner of the City is P.Sreenivasa Rao. The constituents of Chirala urban agglomeration include, Chirala Municipality, census City of Chirala, Vetapalem; out growths of Ipurupalem , and Kothapeta. Economy [ edit ] Fishing boats near Chirala beach Handloom weaving industry is one of the main occupation the City. Several Cloth Market Complexes are situated in Chirala. Textile factories from Surat, Bombay, Gwalior supplying the goods directly to these markets. Cloths are very cheap in Chirala Textile shops. Chirala also known as Small Bombay. Chirala is famous tourist place for several beaches are at its costal sea shores like VADAREVU Beach and Ramapuram Beach are famous here. Every week ends several tourists are coming here from Hyderabad because VADAREVU Beach is nearest beach to Hyderabad and Telangana via Macherla and Nagarjuna Sagar Route Chirala has ITC Factory where Cigeragte raw materials processed and Cigerates are manufactured Demographics [ edit ] As of 2011 census of India, the City had a population of 172,826 with 23,070 households. It shows 2.04% growth in population, compared to 2001 Census of India which was recorded as 85,455. The total population constitute, 42,927 males and 44,273 females —a sex ratio of 1031 females per 1000 males, higher than the national average of 940 per 1000. 8,389 children are in the age group of 0–6 years, of which 4,253 are boys and 4,136 are girls —a ratio of 973 girls per 1000 boys. The average literacy rate stands at 78.80% with 62,099 literates, higher than the national average of 73.00%. The urban agglomeration population of Chirala is 162,471. Transport [ edit ] Chirala railway station main entrance The City is also well connected with National and state highways. The National Highway 216 (India) passes through the town, which connects and Ongole with Kattipudi . State Highway 48, also referred as Guntur-Bapatla-Chirala Road connects the town with Guntur. National_Highway_167A_(India) connects it with Piduguralla, which passes through Narasaraopet and Chilakaluripet. Public transport includes, the buses operated by state run APSRTC services. Chirala railway station is an A–Category station in Vijayawada Railway Division of South Central Railway zone. It is located on the Howrah-Chennai main line of Indian Railways. Municipal office Education [ edit ] The primary and secondary school education is imparted by government, aided and private schools, under the School Education Department of the state. The medium of instruction followed by different schools are English, Telugu. VRS &YRN College is a famous college in Chirala. It's been providing education requirements for decades now. CHIRALA is Educational Hub in Prakasam District, it has lots of Engineering colleges like St. Ann's College of Engineering and Technology, Chirala Engineering College and VRS & YRN College of Engineering. St Ann's Pharmacy College and Polytechnic College. See also [ edit ]We noticed that you're using an unsupported browser. The Tripadvisor website may not display properly.We support the following browsers: Windows: Internet Explorer , Mozilla Firefox , Google Chrome . Mac: Safari . History Chirala is a Coastal town situated in Prakasam District in the state of Andhra Pradesh and is accessible from Vijayawada and Guntur. Chirala is well connected with trains and buses. Vodarevu Beach is 6 km from Chirala in Prakasam district. Chirala is a small village with a population of around 1,75,000. The main occupation of this village is handloom and paddy cultivation. The average educational level is 10th standard. Chirala was once known as \"Small Mumbai\", due to huge varieties of sarees found here in comparison with the availability of sarees in Mumbai. This town is also famous for exporting hand made cloths, cashew nuts, fishes etc. Around 60% of the population belongs to Padmasali, Devanga, Pattusali and Thokattu castes who are traditionally related to weaving. There are around 25,000 pit looms in this village. Chirala silk sarees which are famous and are available at wholesale and retail in the market and one can easily purchase Chirala silk sarees.Chirala India Chirala is the largest town in the Prakasam district of Andhra Pradesh. Situated at a distance of about 85 km from Vijayawada, Chirala is one of the most populous cities of Andhra Pradesh. The town is known for its large textile business and is also called as Mini-Bombay or Chinna Bombay. White sandy Vodarevu Beach and few resorts with world class facilities are some of the prime Chirala attractions. Chirala attractions are worth visiting. The city has number of Educational institutions, Eye hospital, General hospital, Veterinary hospital, Stadium, Lions club, Recreation club, Movie theaters and other religious temples. Vijayawada Airport is the nearest airport from Chirala. Air India, Jet Airways and Air India are some of the airlines that connect Chirala to different cities of the country. Chirala Railway Station provides trains to various other cities. Andhra Pradesh State Road Transport Corporation (APSRTC) is the state owned bus service that is known for its esteemed and luxurious range of buses. You can reserve flight and train tickets for your trip to Chirala in advance by MakeMyTrip.com, a leading online portal. More so you can also book hotel rooms from this site. Chirala is the largest town in the Prakasam district of Andhra Pradesh. Situated at a distance of about 85 km from Vijayawada, Chirala is one of the most populous cities of Andhra Pradesh. The town is known for its large textile business and is also called as Mini-Bombay or Chinna Bombay. White sandy Vodarevu Beach and few resorts with world class facilities are some of the prime Chirala attractions. Chirala attractions are worth visiting. The city has number of Educational institutions, Eye hospital, General hospital, Veterinary hospital, Stadium, Lions club, Recreation club, Movie theaters and other religious temples. Vijayawada Airport is the nearest airport from Chirala. Air India, Jet Airways and Air India are some of the airlines that connect Chirala to different cities of the country. Chirala Railway Station provides trains to various other cities. Andhra Pradesh State Road Transport Corporation (APSRTC) is the state owned bus service that is known for its esteemed and luxurious range of buses. You can reserve flight and train tickets for your trip to Chirala in advance by MakeMyTrip.com, a leading online portal. More so you can also book hotel rooms from this site.Chirala – A Getaway to the Beaches Away from the hustle-bustle of fast-paced city lives, situated in Andhra Pradesh lying alongside the Bay of Bengal, Chirala is a city to enjoy the calm and peaceful beaches and to get some time away from the monotony of your daily routine. The city is well known as Mini Bombay because of its flourishing textile industry. The locals of this city are hard working individuals and it is because of their efforts that the handloom industry is doing so well. A visit to this city should be made at least once in a lifetime to enjoy its soothing tranquility. Understanding the City Chirala is famous for its beaches and textile industry. The two most popular beaches in the city are the Ramapurram beach and the Vodarevu beach. These beaches are practically untouched, and the cleanliness and serenity of the beaches can’t be told in words—it needs to be seen in person to be truly understood. The textile industries in the city produce various colorful products like bedspreads, curtains, tapestry fabrics and saris, amongst many other things. Visiting the city and not witnessing these beautiful creations would be a sin. The works of these weavers are absolutely mesmerizing. The city is known for cashew nuts, so make sure you don’t miss out on them. At the same time, don’t forget to step into a local sweet shop and try the Jeedi Papu Pakam, a famous delicacy of Chirala, which is made by coating jaggery syrup over a special variety of cashew nuts. You could also choose to visit the temples situated in the city like the Durga Devi Temple, the Sivalayam Temple, the Brahmam Giri Temple, the Sree Veera Raghava Swamy Temple and the Ayyapa Swami temple, among many others. A visit to these temples would help you understand the local customs and traditions. Local Transport Traveling in Chirala is comfortable as it is not a big city, so you can easily move around on foot. Chakka rickshaws, flat cycle-rickshaws that can barely be seen anywhere else in the country, are also available here. A ride on this is a must as it is thrilling and promises to give you a local flavor. Safety Tips It is best to not travel and move around in the city after it is dark. Take care of your personal belongings and do not carry too much cash or expensive and precious jewelry while going to the beaches. How to Reach Chirala On a daily basis there are approximately 13 flights that operate at Vijayawada Airport.Air India and SpiceJet are the most popular airline brands that fly frequently to this airport. Besides flying you can also reach Chirala through train.Chiralais one of the most popular train stations in Chirala.On an average about 87 trains pass through Chirala on a daily basis.Tenali to Chirala, Ongole to Chirala, Vijayawada to Chiralaare some of the most popular routes to Chirala with 188, 171, 170 trains weekly respectively. By road Chirala is surrounded by Vetapalem, Bapatla, Ponnur which are 3.99 km, 9.27 km, 21.13 km away respectively. These places are ideal spots for people to plan their short weekend break. Where to stay in Chirala There are no popular hotels available in Chirala.V Resorts Palm Coast Beach Resorts 3 out of 5 2/16, Ramapuram Road, Ramapuram, Prakasam, Chirala Situated in Chirala, this hotel is 2.9 mi (4.7 km) from Ramapuram Beach and 16.3 mi (26.2 km) from Surya Lanka Beach. …Situated in Chirala, this hotel is 2.9 mi (4.7 km) from Ramapuram Beach and 16.3 mi (26.2 km) from Surya Lanka Beach.WWW…\n",
            "266\n",
            "93\n",
            "[28, 31, 40, 51, 53, 56, 60, 72, 92, 93]\n",
            "1  :  Etymology [ edit ] The City was also known as Kshirapuri, which translates as the town of milk.\n",
            "2  :  Every week ends several tourists are coming here from Hyderabad because VADAREVU Beach is nearest beach to Hyderabad and Telangana via Macherla and Nagarjuna Sagar Route Chirala has ITC Factory where Cigeragte raw materials processed and Cigerates are manufactured Demographics [ edit ] As of 2011 census of India, the City had a population of 172,826 with 23,070 households.\n",
            "3  :  More so you can also book hotel rooms from this site.Chirala – A Getaway to the Beaches Away from the hustle-bustle of fast-paced city lives, situated in Andhra Pradesh lying alongside the Bay of Bengal, Chirala is a city to enjoy the calm and peaceful beaches and to get some time away from the monotony of your daily routine.\n",
            "4  :  The total population constitute, 42,927 males and 44,273 females —a sex ratio of 1031 females per 1000 males, higher than the national average of 940 per 1000.\n",
            "5  :  Economy [ edit ] Fishing boats near Chirala beach Handloom weaving industry is one of the main occupation the City.\n",
            "6  :  Municipal office Education [ edit ] The primary and secondary school education is imparted by government, aided and private schools, under the School Education Department of the state.\n",
            "7  :  See also [ edit ]Town in Andhra Pradesh, India Chirala ( (help·info) ), is a town in Prakasam district of the Indian state of Andhra Pradesh.\n",
            "8  :  Where to stay in Chirala There are no popular hotels available in Chirala.V Resorts Palm Coast Beach Resorts 3 out of 5 2/16, Ramapuram Road, Ramapuram, Prakasam, Chirala Situated in Chirala, this hotel is 2.9 mi (4.7 km) from Ramapuram Beach and 16.3 mi (26.2 km) from Surya Lanka Beach.\n",
            "9  :  Chirala is famous tourist place for several beaches are at its costal sea shores like VADAREVU Beach and Ramapuram Beach are famous here.\n",
            "10  :  Transport [ edit ] Chirala railway station main entrance The City is also well connected with National and state highways.\n",
            "{'weaversweavers', 'travel', 'temple', 'popular', 'wikipedia', 'village', 'municipality', 'driving', 'safari', 'visit', 'beaches', 'surya', '47', 'andhra', 'local', 'tripadvisor', 'youre', 'town', 'prakasam', 'direction', 'historytemples', 'beach', 'flights', 'support', 'resorts', 'sarees', 'pradesh', 'unsupported', 'website', 'mumbai', 'railway', 'silk', 'hospital', 'ramapuram', 'city', 'tourism', 'road', 'km', 'mozilla', '2020', 'best', 'textile', 'onlinechirala', 'using', 'state', 'hotel', 'cities', 'reach', 'college', 'famous', 'chiralahandlooms', 'mi', 'chirala', 'world', 'small', 'industry', 'edit', 'national', 'known', 'noticed', 'lanka', 'population', 'properlywe', 'chiralaproblemsrequests', 'bus', 'trains', 'india', 'guide', 'vijayawada'}\n"
          ],
          "name": "stdout"
        }
      ]
    },
    {
      "cell_type": "code",
      "metadata": {
        "id": "PzzeM8dkqtDn",
        "colab_type": "code",
        "outputId": "160f95d3-6a20-425e-efdb-e52077ab4ccc",
        "colab": {
          "base_uri": "https://localhost:8080/",
          "height": 34
        }
      },
      "source": [
        "\"See also [ edit ] Comparison of Java with other languages [ edit ] Works Cited [ edit ] References [ edit ] The dictionary definition of Java at Wiktionary Media related to Java at Wikimedia Commons Java at Wikibooks Learning materials related to Java at Wikiversity Oops… Yeah, that’s what is Java!\" ==\"See also [ edit ] Comparison of Java with other languages [ edit ] Works Cited [ edit ] References [ edit ] The dictionary definition of Java at Wiktionary Media related to Java at Wikimedia Commons Java at Wikibooks Learning materials related to Java at Wikiversity What is Java technology and why do I need it?\""
      ],
      "execution_count": 24,
      "outputs": [
        {
          "output_type": "execute_result",
          "data": {
            "text/plain": [
              "False"
            ]
          },
          "metadata": {
            "tags": []
          },
          "execution_count": 24
        }
      ]
    },
    {
      "cell_type": "code",
      "metadata": {
        "id": "iQvAVw4Sm8K7",
        "colab_type": "code",
        "colab": {}
      },
      "source": [
        "\n"
      ],
      "execution_count": 0,
      "outputs": []
    },
    {
      "cell_type": "code",
      "metadata": {
        "id": "pexwL7-xyn7M",
        "colab_type": "code",
        "outputId": "e6b83d84-76d3-407f-eace-b70da16ff692",
        "colab": {
          "base_uri": "https://localhost:8080/",
          "height": 275
        }
      },
      "source": [
        "#wiki_or_url\n",
        "def wiki_or_url(url):\n",
        "        article = Article(url)\n",
        "        article.download()\n",
        "        article.parse()\n",
        "        final_fuck(article.text)  \n",
        "\n",
        "wiki_or_url('https://en.wikipedia.org/wiki/Automatic_summarization')\n"
      ],
      "execution_count": 7,
      "outputs": [
        {
          "output_type": "stream",
          "text": [
            "======================================================================================================\n",
            "264\n",
            "264\n",
            "[31, 53, 66, 142, 159, 193, 198, 235, 249, 252]\n",
            "1  :  Document summarization [ edit ] Like keyphrase extraction, document summarization aims to identify the essence of a text.\n",
            "2  :  Maximum entropy-based summarization [ edit ] During the DUC 2001 and 2002 evaluation workshops, TNO developed a sentence extraction system for multi-document summarization in the news domain.\n",
            "3  :  An example of a summarization problem is document summarization, which attempts to automatically produce an abstract from a given document.\n",
            "4  :  For example, in document summarization, one would like the summary to cover all important and relevant concepts in the document.\n",
            "5  :  Intrinsic and extrinsic evaluation [ edit ] An intrinsic evaluation tests the summarization system in and of itself while an extrinsic evaluation tests the summarization based on how it affects the completion of some other task.\n",
            "6  :  Text summarization finds the most informative sentences in a document; image summarization finds the most representative images within an image collection[citation needed]; video summarization extracts the most important frames from the video content.\n",
            "7  :  Applications and systems for summarization [ edit ] There are broadly two types of extractive summarization tasks depending on what the summarization program focuses on.\n",
            "8  :  It is worth noting that TextRank was applied to summarization exactly as described here, while LexRank was used as part of a larger summarization system (MEAD) that combines the LexRank score (stationary probability) with other features like sentence position and length using a linear combination with either user-specified or automatically tuned weights.\n",
            "9  :  The main difficulty in supervised extractive summarization is that the known summaries must be manually created by extracting sentences so the sentences in an original training document can be labeled as \"in summary\" or \"not in summary\".\n",
            "10  :  Domain specific versus domain independent summarization techniques [ edit ] Domain independent summarization techniques generally apply sets of general features which can be used to identify information-rich text segments.\n"
          ],
          "name": "stdout"
        }
      ]
    },
    {
      "cell_type": "code",
      "metadata": {
        "id": "ZnqhqdIayri8",
        "colab_type": "code",
        "outputId": "848d6f40-003a-460f-b922-87d24b060b54",
        "colab": {
          "base_uri": "https://localhost:8080/",
          "height": 316
        }
      },
      "source": [
        "\n",
        "def text_file(file):\n",
        "  f=open(file,'r')\n",
        "  text=f.read()\n",
        "  final_fuck(text)\n",
        "\n",
        "text_file('t.txt')"
      ],
      "execution_count": 8,
      "outputs": [
        {
          "output_type": "error",
          "ename": "FileNotFoundError",
          "evalue": "ignored",
          "traceback": [
            "\u001b[0;31m---------------------------------------------------------------------------\u001b[0m",
            "\u001b[0;31mFileNotFoundError\u001b[0m                         Traceback (most recent call last)",
            "\u001b[0;32m<ipython-input-8-444a5560bfa0>\u001b[0m in \u001b[0;36m<module>\u001b[0;34m()\u001b[0m\n\u001b[1;32m      5\u001b[0m   \u001b[0mfinal_fuck\u001b[0m\u001b[0;34m(\u001b[0m\u001b[0mtext\u001b[0m\u001b[0;34m)\u001b[0m\u001b[0;34m\u001b[0m\u001b[0;34m\u001b[0m\u001b[0m\n\u001b[1;32m      6\u001b[0m \u001b[0;34m\u001b[0m\u001b[0m\n\u001b[0;32m----> 7\u001b[0;31m \u001b[0mtext_file\u001b[0m\u001b[0;34m(\u001b[0m\u001b[0;34m't.txt'\u001b[0m\u001b[0;34m)\u001b[0m\u001b[0;34m\u001b[0m\u001b[0;34m\u001b[0m\u001b[0m\n\u001b[0m",
            "\u001b[0;32m<ipython-input-8-444a5560bfa0>\u001b[0m in \u001b[0;36mtext_file\u001b[0;34m(file)\u001b[0m\n\u001b[1;32m      1\u001b[0m \u001b[0;34m\u001b[0m\u001b[0m\n\u001b[1;32m      2\u001b[0m \u001b[0;32mdef\u001b[0m \u001b[0mtext_file\u001b[0m\u001b[0;34m(\u001b[0m\u001b[0mfile\u001b[0m\u001b[0;34m)\u001b[0m\u001b[0;34m:\u001b[0m\u001b[0;34m\u001b[0m\u001b[0;34m\u001b[0m\u001b[0m\n\u001b[0;32m----> 3\u001b[0;31m   \u001b[0mf\u001b[0m\u001b[0;34m=\u001b[0m\u001b[0mopen\u001b[0m\u001b[0;34m(\u001b[0m\u001b[0mfile\u001b[0m\u001b[0;34m,\u001b[0m\u001b[0;34m'r'\u001b[0m\u001b[0;34m)\u001b[0m\u001b[0;34m\u001b[0m\u001b[0;34m\u001b[0m\u001b[0m\n\u001b[0m\u001b[1;32m      4\u001b[0m   \u001b[0mtext\u001b[0m\u001b[0;34m=\u001b[0m\u001b[0mf\u001b[0m\u001b[0;34m.\u001b[0m\u001b[0mread\u001b[0m\u001b[0;34m(\u001b[0m\u001b[0;34m)\u001b[0m\u001b[0;34m\u001b[0m\u001b[0;34m\u001b[0m\u001b[0m\n\u001b[1;32m      5\u001b[0m   \u001b[0mfinal_fuck\u001b[0m\u001b[0;34m(\u001b[0m\u001b[0mtext\u001b[0m\u001b[0;34m)\u001b[0m\u001b[0;34m\u001b[0m\u001b[0;34m\u001b[0m\u001b[0m\n",
            "\u001b[0;31mFileNotFoundError\u001b[0m: [Errno 2] No such file or directory: 't.txt'"
          ]
        }
      ]
    },
    {
      "cell_type": "code",
      "metadata": {
        "id": "rRUdGDOlyJkn",
        "colab_type": "code",
        "colab": {}
      },
      "source": [
        "        for x in summary_sentences:\n",
        "          documents.append(x)\n",
        "\n",
        "        from sklearn.feature_extraction.text import CountVectorizer\n",
        "        import pandas as pd\n",
        "\n",
        "        # Create the Document Term Matrix\n",
        "        count_vectorizer = CountVectorizer(stop_words='english')\n",
        "        count_vectorizer = CountVectorizer()\n",
        "        sparse_matrix = count_vectorizer.fit_transform(documents)\n",
        "\n",
        "        # OPTIONAL: Convert Sparse Matrix to Pandas Dataframe if you want to see the word frequencies.\n",
        "        doc_term_matrix = sparse_matrix.todense()\n",
        "        df = pd.DataFrame(doc_term_matrix, \n",
        "                          columns=count_vectorizer.get_feature_names(), \n",
        "                          )\n",
        "        from sklearn.metrics.pairwise import cosine_similarity\n",
        "        #print(cosine_similarity(df, df))\n",
        "\n",
        "\n"
      ],
      "execution_count": 0,
      "outputs": []
    },
    {
      "cell_type": "code",
      "metadata": {
        "id": "wpl6wVnjjbW0",
        "colab_type": "code",
        "colab": {}
      },
      "source": [
        "def final_fuck(sentence_list):\n",
        "    count=1\n",
        "    documents=[]\n",
        "    try:\n",
        " \n",
        "  \n",
        "        print('======================================================================================================')            \n",
        "\n",
        "        new_list=[]\n",
        "        for sentence in sentence_list:\n",
        "          new_list.append((str(count)+' : '+sentence))\n",
        "          count+=1\n",
        "        sentence_list=new_list\n",
        "        \n",
        "       \n",
        "        word_frequencies = {}\n",
        "        for word in nltk.word_tokenize(article_text):\n",
        "            if word not in stopwords:\n",
        "                if word not in word_frequencies.keys():\n",
        "                    word_frequencies[word] = 1\n",
        "                else:\n",
        "                    word_frequencies[word] += 1\n",
        "        maximum_frequncy = max(word_frequencies.values())\n",
        "\n",
        "        for word in word_frequencies.keys():\n",
        "            word_frequencies[word] = (word_frequencies[word]/maximum_frequncy)\n",
        "        sentence_scores = {}\n",
        "        for sent in sentence_list:\n",
        "            for word in nltk.word_tokenize(sent.lower()):\n",
        "                if word in word_frequencies.keys():\n",
        "                        if sent not in sentence_scores.keys():\n",
        "                            sentence_scores[sent] = word_frequencies[word]\n",
        "                        else:\n",
        "                            sentence_scores[sent] += word_frequencies[word]\n",
        "        \n",
        "        summary_sentences = heapq.nlargest(10, sentence_scores, key=sentence_scores.get)\n",
        "\n",
        "\n",
        "\n",
        "        summary_dict={}\n",
        "        for sent in summary_sentences:\n",
        "          index=sent.find(':')\n",
        "          summary_dict[int(sent[:index-1])]=sent[index+2:]\n",
        "        \n",
        "        order_details=sorted(summary_dict.keys())\n",
        "        i=1\n",
        "        print(order_details)\n",
        "        for j in order_details:\n",
        "          print(i,' : ',summary_dict[j])\n",
        "          i+=1\n",
        "        \n",
        "    except ValueError:\n",
        "      pass"
      ],
      "execution_count": 0,
      "outputs": []
    },
    {
      "cell_type": "code",
      "metadata": {
        "id": "98Kf0f9Lfrf6",
        "colab_type": "code",
        "outputId": "7456cb8d-cbd8-42a4-db6c-1a1e86820078",
        "colab": {
          "base_uri": "https://localhost:8080/",
          "height": 367
        }
      },
      "source": [
        "import spacy\n",
        "import nltk.data\n",
        "\n",
        "from youtube_transcript_api import YouTubeTranscriptApi\n",
        "\n",
        "x=(YouTubeTranscriptApi.get_transcript(\"SSo_EIwHSd4\"))\n",
        "tot=\"\"\n",
        "for i in x :\n",
        "    tot+=i['text']\n",
        "    tot+=\" \"\n",
        "\n",
        "\n",
        "import en_core_web_sm\n",
        "nlp = en_core_web_sm.load()\n",
        "tokens = nlp(tot)\n",
        "sentence_list=[]\n",
        "article_text=\"\"\n",
        "for sent in tokens.sents:\n",
        "      sentence_list.append(sent.string.strip())\n",
        "      article_text+=sent.string.strip()\n",
        "      article_text+=\" \"\n",
        "print(len(sentence_list))\n",
        "for i in sentence_list:\n",
        "  print(i)\n",
        "final_fuck(sentence_list)"
      ],
      "execution_count": 10,
      "outputs": [
        {
          "output_type": "error",
          "ename": "ModuleNotFoundError",
          "evalue": "ignored",
          "traceback": [
            "\u001b[0;31m---------------------------------------------------------------------------\u001b[0m",
            "\u001b[0;31mModuleNotFoundError\u001b[0m                       Traceback (most recent call last)",
            "\u001b[0;32m<ipython-input-10-908970f21077>\u001b[0m in \u001b[0;36m<module>\u001b[0;34m()\u001b[0m\n\u001b[1;32m      2\u001b[0m \u001b[0;32mimport\u001b[0m \u001b[0mnltk\u001b[0m\u001b[0;34m.\u001b[0m\u001b[0mdata\u001b[0m\u001b[0;34m\u001b[0m\u001b[0;34m\u001b[0m\u001b[0m\n\u001b[1;32m      3\u001b[0m \u001b[0;34m\u001b[0m\u001b[0m\n\u001b[0;32m----> 4\u001b[0;31m \u001b[0;32mfrom\u001b[0m \u001b[0myoutube_transcript_api\u001b[0m \u001b[0;32mimport\u001b[0m \u001b[0mYouTubeTranscriptApi\u001b[0m\u001b[0;34m\u001b[0m\u001b[0;34m\u001b[0m\u001b[0m\n\u001b[0m\u001b[1;32m      5\u001b[0m \u001b[0;34m\u001b[0m\u001b[0m\n\u001b[1;32m      6\u001b[0m \u001b[0mx\u001b[0m\u001b[0;34m=\u001b[0m\u001b[0;34m(\u001b[0m\u001b[0mYouTubeTranscriptApi\u001b[0m\u001b[0;34m.\u001b[0m\u001b[0mget_transcript\u001b[0m\u001b[0;34m(\u001b[0m\u001b[0;34m\"SSo_EIwHSd4\"\u001b[0m\u001b[0;34m)\u001b[0m\u001b[0;34m)\u001b[0m\u001b[0;34m\u001b[0m\u001b[0;34m\u001b[0m\u001b[0m\n",
            "\u001b[0;31mModuleNotFoundError\u001b[0m: No module named 'youtube_transcript_api'",
            "",
            "\u001b[0;31m---------------------------------------------------------------------------\u001b[0;32m\nNOTE: If your import is failing due to a missing package, you can\nmanually install dependencies using either !pip or !apt.\n\nTo view examples of installing some common dependencies, click the\n\"Open Examples\" button below.\n\u001b[0;31m---------------------------------------------------------------------------\u001b[0m\n"
          ]
        }
      ]
    },
    {
      "cell_type": "code",
      "metadata": {
        "id": "8INo-xMuf0XE",
        "colab_type": "code",
        "outputId": "c8cf6281-9bfa-4f70-96a6-96676796c4d9",
        "colab": {
          "base_uri": "https://localhost:8080/",
          "height": 282
        }
      },
      "source": [
        "!pip install vsummarize\n",
        "import vsummarize\n",
        "data = vsummarize.summarize('http://youtube.com/watch?v=hEgO047GxaQ',output='shorter.mp4')\n",
        "print(data.hot_clips)\n",
        "print (data.timestamps)\n",
        "print(data.duration)"
      ],
      "execution_count": 0,
      "outputs": [
        {
          "output_type": "stream",
          "text": [
            "Requirement already satisfied: vsummarize in /usr/local/lib/python3.6/dist-packages (0.0.1)\n",
            "Requirement already satisfied: numpy in /usr/local/lib/python3.6/dist-packages (from vsummarize) (1.17.5)\n",
            "Requirement already satisfied: moviepy in /usr/local/lib/python3.6/dist-packages (from vsummarize) (0.2.3.5)\n",
            "Requirement already satisfied: youtube-dl in /usr/local/lib/python3.6/dist-packages (from vsummarize) (2020.2.16)\n",
            "Requirement already satisfied: gdata in /usr/local/lib/python3.6/dist-packages (from vsummarize) (2.0.18)\n",
            "Requirement already satisfied: tqdm<5.0,>=4.11.2 in /usr/local/lib/python3.6/dist-packages (from moviepy->vsummarize) (4.28.1)\n",
            "Requirement already satisfied: decorator<5.0,>=4.0.2 in /usr/local/lib/python3.6/dist-packages (from moviepy->vsummarize) (4.4.1)\n",
            "Requirement already satisfied: imageio<3.0,>=2.1.2 in /usr/local/lib/python3.6/dist-packages (from moviepy->vsummarize) (2.4.1)\n",
            "Requirement already satisfied: pillow in /usr/local/lib/python3.6/dist-packages (from imageio<3.0,>=2.1.2->moviepy->vsummarize) (6.2.2)\n"
          ],
          "name": "stdout"
        },
        {
          "output_type": "error",
          "ename": "SyntaxError",
          "evalue": "ignored",
          "traceback": [
            "\u001b[0;36m  File \u001b[0;32m\"/usr/local/lib/python3.6/dist-packages/vsummarize/api.py\"\u001b[0;36m, line \u001b[0;32m16\u001b[0m\n\u001b[0;31m    except Exception, e:\u001b[0m\n\u001b[0m                    ^\u001b[0m\n\u001b[0;31mSyntaxError\u001b[0m\u001b[0;31m:\u001b[0m invalid syntax\n"
          ]
        }
      ]
    },
    {
      "cell_type": "code",
      "metadata": {
        "id": "VoFR7mfanVii",
        "colab_type": "code",
        "outputId": "cb7da010-2848-408d-c503-81c87f1c37a3",
        "colab": {
          "base_uri": "https://localhost:8080/",
          "height": 374
        }
      },
      "source": [
        "\n",
        "from __future__ import absolute_import\n",
        "from __future__ import division, print_function, unicode_literals\n",
        "\n",
        "from sumy.parsers.html import HtmlParser\n",
        "from sumy.parsers.plaintext import PlaintextParser\n",
        "from sumy.nlp.tokenizers import Tokenizer\n",
        "from sumy.summarizers.lsa import LsaSummarizer as Summarizer\n",
        "from sumy.nlp.stemmers import Stemmer\n",
        "from sumy.utils import get_stop_words\n",
        "\n",
        "\n",
        "LANGUAGE = \"english\"\n",
        "SENTENCES_COUNT = 10\n",
        "\n",
        "\n",
        "if __name__ == \"__main__\":\n",
        "    url = \"https://en.wikipedia.org/wiki/Automatic_summarization\"\n",
        "    parser = HtmlParser.from_url(url, Tokenizer(LANGUAGE))\n",
        "    # or for plain text files\n",
        "    # parser = PlaintextParser.from_file(\"document.txt\", Tokenizer(LANGUAGE))\n",
        "    stemmer = Stemmer(LANGUAGE)\n",
        "\n",
        "    summarizer = Summarizer()\n",
        "    summarizer.stop_words = get_stop_words(LANGUAGE)\n",
        "\n",
        "    for sentence in summarizer(parser.document, SENTENCES_COUNT):\n",
        "        print(sentence)\n",
        "\n",
        "    wiki_or_url('https://en.wikipedia.org/wiki/Automatic_summarization')"
      ],
      "execution_count": 0,
      "outputs": [
        {
          "output_type": "error",
          "ename": "AttributeError",
          "evalue": "ignored",
          "traceback": [
            "\u001b[0;31m---------------------------------------------------------------------------\u001b[0m",
            "\u001b[0;31mAttributeError\u001b[0m                            Traceback (most recent call last)",
            "\u001b[0;32m<ipython-input-43-ac6bf7db051e>\u001b[0m in \u001b[0;36m<module>\u001b[0;34m()\u001b[0m\n\u001b[1;32m     25\u001b[0m     \u001b[0msummarizer\u001b[0m\u001b[0;34m.\u001b[0m\u001b[0mstop_words\u001b[0m \u001b[0;34m=\u001b[0m \u001b[0mget_stop_words\u001b[0m\u001b[0;34m(\u001b[0m\u001b[0mLANGUAGE\u001b[0m\u001b[0;34m)\u001b[0m\u001b[0;34m\u001b[0m\u001b[0;34m\u001b[0m\u001b[0m\n\u001b[1;32m     26\u001b[0m \u001b[0;34m\u001b[0m\u001b[0m\n\u001b[0;32m---> 27\u001b[0;31m     \u001b[0;32mfor\u001b[0m \u001b[0msentence\u001b[0m \u001b[0;32min\u001b[0m \u001b[0msummarizer\u001b[0m\u001b[0;34m(\u001b[0m\u001b[0marticle_text\u001b[0m\u001b[0;34m,\u001b[0m \u001b[0mSENTENCES_COUNT\u001b[0m\u001b[0;34m)\u001b[0m\u001b[0;34m:\u001b[0m\u001b[0;34m\u001b[0m\u001b[0;34m\u001b[0m\u001b[0m\n\u001b[0m\u001b[1;32m     28\u001b[0m         \u001b[0mprint\u001b[0m\u001b[0;34m(\u001b[0m\u001b[0msentence\u001b[0m\u001b[0;34m)\u001b[0m\u001b[0;34m\u001b[0m\u001b[0;34m\u001b[0m\u001b[0m\n\u001b[1;32m     29\u001b[0m \u001b[0;34m\u001b[0m\u001b[0m\n",
            "\u001b[0;32m/usr/local/lib/python3.6/dist-packages/sumy/summarizers/lsa.py\u001b[0m in \u001b[0;36m__call__\u001b[0;34m(self, document, sentences_count)\u001b[0m\n\u001b[1;32m     36\u001b[0m         \u001b[0mself\u001b[0m\u001b[0;34m.\u001b[0m\u001b[0m_ensure_dependecies_installed\u001b[0m\u001b[0;34m(\u001b[0m\u001b[0;34m)\u001b[0m\u001b[0;34m\u001b[0m\u001b[0;34m\u001b[0m\u001b[0m\n\u001b[1;32m     37\u001b[0m \u001b[0;34m\u001b[0m\u001b[0m\n\u001b[0;32m---> 38\u001b[0;31m         \u001b[0mdictionary\u001b[0m \u001b[0;34m=\u001b[0m \u001b[0mself\u001b[0m\u001b[0;34m.\u001b[0m\u001b[0m_create_dictionary\u001b[0m\u001b[0;34m(\u001b[0m\u001b[0mdocument\u001b[0m\u001b[0;34m)\u001b[0m\u001b[0;34m\u001b[0m\u001b[0;34m\u001b[0m\u001b[0m\n\u001b[0m\u001b[1;32m     39\u001b[0m         \u001b[0;31m# empty document\u001b[0m\u001b[0;34m\u001b[0m\u001b[0;34m\u001b[0m\u001b[0;34m\u001b[0m\u001b[0m\n\u001b[1;32m     40\u001b[0m         \u001b[0;32mif\u001b[0m \u001b[0;32mnot\u001b[0m \u001b[0mdictionary\u001b[0m\u001b[0;34m:\u001b[0m\u001b[0;34m\u001b[0m\u001b[0;34m\u001b[0m\u001b[0m\n",
            "\u001b[0;32m/usr/local/lib/python3.6/dist-packages/sumy/summarizers/lsa.py\u001b[0m in \u001b[0;36m_create_dictionary\u001b[0;34m(self, document)\u001b[0m\n\u001b[1;32m     55\u001b[0m     \u001b[0;32mdef\u001b[0m \u001b[0m_create_dictionary\u001b[0m\u001b[0;34m(\u001b[0m\u001b[0mself\u001b[0m\u001b[0;34m,\u001b[0m \u001b[0mdocument\u001b[0m\u001b[0;34m)\u001b[0m\u001b[0;34m:\u001b[0m\u001b[0;34m\u001b[0m\u001b[0;34m\u001b[0m\u001b[0m\n\u001b[1;32m     56\u001b[0m         \u001b[0;34m\"\"\"Creates mapping key = word, value = row index\"\"\"\u001b[0m\u001b[0;34m\u001b[0m\u001b[0;34m\u001b[0m\u001b[0m\n\u001b[0;32m---> 57\u001b[0;31m         \u001b[0mwords\u001b[0m \u001b[0;34m=\u001b[0m \u001b[0mmap\u001b[0m\u001b[0;34m(\u001b[0m\u001b[0mself\u001b[0m\u001b[0;34m.\u001b[0m\u001b[0mnormalize_word\u001b[0m\u001b[0;34m,\u001b[0m \u001b[0mdocument\u001b[0m\u001b[0;34m.\u001b[0m\u001b[0mwords\u001b[0m\u001b[0;34m)\u001b[0m\u001b[0;34m\u001b[0m\u001b[0;34m\u001b[0m\u001b[0m\n\u001b[0m\u001b[1;32m     58\u001b[0m         \u001b[0munique_words\u001b[0m \u001b[0;34m=\u001b[0m \u001b[0mfrozenset\u001b[0m\u001b[0;34m(\u001b[0m\u001b[0mself\u001b[0m\u001b[0;34m.\u001b[0m\u001b[0mstem_word\u001b[0m\u001b[0;34m(\u001b[0m\u001b[0mw\u001b[0m\u001b[0;34m)\u001b[0m \u001b[0;32mfor\u001b[0m \u001b[0mw\u001b[0m \u001b[0;32min\u001b[0m \u001b[0mwords\u001b[0m \u001b[0;32mif\u001b[0m \u001b[0mw\u001b[0m \u001b[0;32mnot\u001b[0m \u001b[0;32min\u001b[0m \u001b[0mself\u001b[0m\u001b[0;34m.\u001b[0m\u001b[0m_stop_words\u001b[0m\u001b[0;34m)\u001b[0m\u001b[0;34m\u001b[0m\u001b[0;34m\u001b[0m\u001b[0m\n\u001b[1;32m     59\u001b[0m \u001b[0;34m\u001b[0m\u001b[0m\n",
            "\u001b[0;31mAttributeError\u001b[0m: 'str' object has no attribute 'words'"
          ]
        }
      ]
    },
    {
      "cell_type": "code",
      "metadata": {
        "id": "RGV4587syAWP",
        "colab_type": "code",
        "colab": {}
      },
      "source": [
        ""
      ],
      "execution_count": 0,
      "outputs": []
    }
  ]
}